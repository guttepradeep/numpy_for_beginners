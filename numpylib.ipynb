{
  "nbformat": 4,
  "nbformat_minor": 0,
  "metadata": {
    "colab": {
      "provenance": []
    },
    "kernelspec": {
      "name": "python3",
      "display_name": "Python 3"
    },
    "language_info": {
      "name": "python"
    }
  },
  "cells": [
    {
      "cell_type": "code",
      "execution_count": null,
      "metadata": {
        "id": "Z0D6G9dZx3lq"
      },
      "outputs": [],
      "source": [
        "# What is numpy?\n",
        "# core library for Scientific computing in python\n",
        "# Central object in numpy \"Numpy Array\"\n",
        "# What is numpy array?\n",
        "# High Performance multidimention array object Which is\n",
        "# desined specifically to perform math operation\n",
        "# How many tyeps of array\n",
        "# 1D -->  only rows  Axis =0  row only\n",
        "# 2D -->  two axis row and column (row,column)\n",
        "# 3D -->  (row,colume,axis)\n"
      ]
    },
    {
      "cell_type": "code",
      "source": [
        "# sciket learn\n",
        "# matplotlib\n",
        "# pandas"
      ],
      "metadata": {
        "id": "c6q1TK8b1uB9"
      },
      "execution_count": null,
      "outputs": []
    },
    {
      "cell_type": "code",
      "source": [
        " # what ara all the different use casses and operation\n",
        " # that can be achieved easily with numpy\n"
      ],
      "metadata": {
        "id": "UJf_XL2b1t--"
      },
      "execution_count": null,
      "outputs": []
    },
    {
      "cell_type": "code",
      "source": [
        "import numpy as np\n",
        "# how can we check the numpy version\n",
        "np.__version__"
      ],
      "metadata": {
        "colab": {
          "base_uri": "https://localhost:8080/",
          "height": 36
        },
        "id": "2Dq61Juo36xh",
        "outputId": "43323bb0-e63d-4b4f-e463-7d5764539b8a"
      },
      "execution_count": null,
      "outputs": [
        {
          "output_type": "execute_result",
          "data": {
            "text/plain": [
              "'1.25.2'"
            ],
            "application/vnd.google.colaboratory.intrinsic+json": {
              "type": "string"
            }
          },
          "metadata": {},
          "execution_count": 2
        }
      ]
    },
    {
      "cell_type": "code",
      "source": [
        "#Central object is an array\n",
        "import numpy as np\n",
        "a=np.array([1,2,3,4,5,6,7,8,])\n",
        "#check shape fo an array\n",
        "print(type(a))\n",
        "print(a.shape)\n",
        "# how can you check datatypes of elements in an array\n",
        "a.dtype"
      ],
      "metadata": {
        "colab": {
          "base_uri": "https://localhost:8080/"
        },
        "id": "7_5CgLwZ3-iE",
        "outputId": "342c534a-1f43-4ba6-8190-93efdbafc1da"
      },
      "execution_count": null,
      "outputs": [
        {
          "output_type": "stream",
          "name": "stdout",
          "text": [
            "<class 'numpy.ndarray'>\n",
            "(8,)\n"
          ]
        },
        {
          "output_type": "execute_result",
          "data": {
            "text/plain": [
              "dtype('int64')"
            ]
          },
          "metadata": {},
          "execution_count": 2
        }
      ]
    },
    {
      "cell_type": "code",
      "source": [
        "# What is diff b\\w int32 and np.int64\n",
        "# what is diff b\\w float32 and np.float64\n",
        "# how can we find the dimensionality of array\n",
        "a.ndim"
      ],
      "metadata": {
        "colab": {
          "base_uri": "https://localhost:8080/"
        },
        "id": "UrXmCY2A5Iuk",
        "outputId": "61759680-0173-487c-f7bc-11efb0789494"
      },
      "execution_count": null,
      "outputs": [
        {
          "output_type": "execute_result",
          "data": {
            "text/plain": [
              "1"
            ]
          },
          "metadata": {},
          "execution_count": 11
        }
      ]
    },
    {
      "cell_type": "code",
      "source": [
        "# how can i see the size of an array\n",
        "a.size"
      ],
      "metadata": {
        "colab": {
          "base_uri": "https://localhost:8080/"
        },
        "id": "mHCsdTm25IwY",
        "outputId": "82faf2bb-cc4a-43e5-d8f0-eab575bd62f9"
      },
      "execution_count": null,
      "outputs": [
        {
          "output_type": "execute_result",
          "data": {
            "text/plain": [
              "8"
            ]
          },
          "metadata": {},
          "execution_count": 12
        }
      ]
    },
    {
      "cell_type": "code",
      "source": [
        "# how can i see the size in bytes in each element in an array\n",
        "a.itemsize"
      ],
      "metadata": {
        "colab": {
          "base_uri": "https://localhost:8080/"
        },
        "id": "KnCqFiHN5IyX",
        "outputId": "1dab18ee-c3af-4798-f898-188f1fa885a2"
      },
      "execution_count": null,
      "outputs": [
        {
          "output_type": "execute_result",
          "data": {
            "text/plain": [
              "8"
            ]
          },
          "metadata": {},
          "execution_count": 13
        }
      ]
    },
    {
      "cell_type": "code",
      "source": [
        "# Essential methods in an array\n",
        "b=np.array([1,2,3])\n",
        "print(b[0])\n",
        "b[0]=5\n",
        "print(b[0])"
      ],
      "metadata": {
        "colab": {
          "base_uri": "https://localhost:8080/"
        },
        "id": "ZYrtyvm-6c2m",
        "outputId": "105fc422-b753-4f83-9bc2-1207044e9f78"
      },
      "execution_count": null,
      "outputs": [
        {
          "output_type": "stream",
          "name": "stdout",
          "text": [
            "1\n",
            "5\n"
          ]
        }
      ]
    },
    {
      "cell_type": "code",
      "source": [
        "# do element wise math opeartion\n",
        "c = b * np.array([2,0,2])\n",
        "print(c)"
      ],
      "metadata": {
        "colab": {
          "base_uri": "https://localhost:8080/"
        },
        "id": "K4y213T66c5m",
        "outputId": "1e89312d-eeb5-4e28-d867-85c1b890f04c"
      },
      "execution_count": null,
      "outputs": [
        {
          "output_type": "stream",
          "name": "stdout",
          "text": [
            "[10  0  6]\n"
          ]
        }
      ]
    },
    {
      "cell_type": "code",
      "source": [
        "# Array vs List\n",
        "l= [1,2,3,4,5,6,7,8,9]\n",
        "d=np.array(l)\n",
        "print(d)\n",
        "print(l)\n",
        "\n",
        "# addan atom at the end of List\n",
        "l.append(10)\n",
        "print(l)\n",
        "\n",
        "# there are three ways to add the items in the array\n",
        "# addan atom at the end of Array\n",
        "d=np.append(d,10)\n",
        "print(d)\n",
        "\n",
        "l2=l +[11]\n",
        "print(l2)"
      ],
      "metadata": {
        "colab": {
          "base_uri": "https://localhost:8080/"
        },
        "id": "MrMX4bTZ5I1Z",
        "outputId": "5a219963-45f7-45f5-9d56-abc89e0184b6"
      },
      "execution_count": null,
      "outputs": [
        {
          "output_type": "stream",
          "name": "stdout",
          "text": [
            "[1 2 3 4 5 6 7 8 9]\n",
            "[1, 2, 3, 4, 5, 6, 7, 8, 9]\n",
            "[1, 2, 3, 4, 5, 6, 7, 8, 9, 10]\n",
            "[ 1  2  3  4  5  6  7  8  9 10]\n",
            "[1, 2, 3, 4, 5, 6, 7, 8, 9, 10, 11]\n"
          ]
        }
      ]
    },
    {
      "cell_type": "code",
      "source": [
        "a2=d + np.array([10])\n",
        "print(a2)\n",
        "# add the 10 number in each number of an array"
      ],
      "metadata": {
        "colab": {
          "base_uri": "https://localhost:8080/"
        },
        "id": "cXem1IWn5I5X",
        "outputId": "45059202-9924-4675-d519-83db0be057c5"
      },
      "execution_count": null,
      "outputs": [
        {
          "output_type": "stream",
          "name": "stdout",
          "text": [
            "[11 12 13 14 15 16 17 18 19 20]\n"
          ]
        }
      ]
    },
    {
      "cell_type": "code",
      "source": [
        "# vector addition\n",
        "# Addition of two array of same size\\\n",
        "a3 =a + np.array([1,2,3,4,5,6,7,8])\n",
        "print(a3)"
      ],
      "metadata": {
        "colab": {
          "base_uri": "https://localhost:8080/"
        },
        "id": "yJsjfGMF99N6",
        "outputId": "f07ebf58-9e00-4a28-9ade-d2d97077bd3a"
      },
      "execution_count": null,
      "outputs": [
        {
          "output_type": "stream",
          "name": "stdout",
          "text": [
            "[ 2  4  6  8 10 12 14 16]\n"
          ]
        }
      ]
    },
    {
      "cell_type": "code",
      "source": [
        "# multiplication of an array\n",
        "a3 =a * np.array([19])\n",
        "print(a3)\n",
        "#How can we do the multiplication of each element in an array"
      ],
      "metadata": {
        "colab": {
          "base_uri": "https://localhost:8080/"
        },
        "id": "o2hC8iVz9tSy",
        "outputId": "ca4170f3-36f2-49d2-a83a-85496f983b0e"
      },
      "execution_count": null,
      "outputs": [
        {
          "output_type": "stream",
          "name": "stdout",
          "text": [
            "[ 19  38  57  76  95 114 133 152]\n"
          ]
        }
      ]
    },
    {
      "cell_type": "code",
      "source": [
        "a1 = np.array([1,2,3,4,5,6,7,8])\n",
        "print(a1*2)"
      ],
      "metadata": {
        "colab": {
          "base_uri": "https://localhost:8080/"
        },
        "id": "P4bWz_go_JbN",
        "outputId": "3a6bda35-d8cf-4191-a535-177a157584cc"
      },
      "execution_count": null,
      "outputs": [
        {
          "output_type": "stream",
          "name": "stdout",
          "text": [
            "[ 2  4  6  8 10 12 14 16]\n"
          ]
        }
      ]
    },
    {
      "cell_type": "code",
      "source": [
        "# modify each atom in list and store it in new list do the\n",
        "# multiply with 2 in given list"
      ],
      "metadata": {
        "id": "FGfhpq3g_JeH"
      },
      "execution_count": null,
      "outputs": []
    },
    {
      "cell_type": "code",
      "source": [
        "# in=[2,4,8,12,16]\n",
        "# out=[4,8,16,24,32]\n",
        "print(a)\n",
        "print(a**2)"
      ],
      "metadata": {
        "colab": {
          "base_uri": "https://localhost:8080/"
        },
        "id": "5CIpbqOS_8au",
        "outputId": "6d4563de-eb7a-428c-a181-75f2e136e89e"
      },
      "execution_count": null,
      "outputs": [
        {
          "output_type": "stream",
          "name": "stdout",
          "text": [
            "[1 2 3 4 5 6 7 8]\n",
            "[ 1  4  9 16 25 36 49 64]\n"
          ]
        }
      ]
    },
    {
      "cell_type": "code",
      "source": [
        "# To print square root of a1\n",
        "print(a**0.5)"
      ],
      "metadata": {
        "colab": {
          "base_uri": "https://localhost:8080/"
        },
        "id": "oe5LELeP_8L_",
        "outputId": "6db7b7bf-f677-4d6f-a3ee-fe1d9ade1566"
      },
      "execution_count": null,
      "outputs": [
        {
          "output_type": "stream",
          "name": "stdout",
          "text": [
            "[1.         1.41421356 1.73205081 2.         2.23606798 2.44948974\n",
            " 2.64575131 2.82842712]\n"
          ]
        }
      ]
    },
    {
      "cell_type": "code",
      "source": [
        "np.exp(a1) # All Exponantionam function What is Exponantional\n",
        "np.tanh(a1) #\n"
      ],
      "metadata": {
        "colab": {
          "base_uri": "https://localhost:8080/"
        },
        "id": "nCcISoVu_8JH",
        "outputId": "516af6db-6079-4ac2-8814-56721b2d3aca"
      },
      "execution_count": null,
      "outputs": [
        {
          "output_type": "execute_result",
          "data": {
            "text/plain": [
              "array([2.71828183e+00, 7.38905610e+00, 2.00855369e+01, 5.45981500e+01,\n",
              "       1.48413159e+02, 4.03428793e+02, 1.09663316e+03, 2.98095799e+03])"
            ]
          },
          "metadata": {},
          "execution_count": 36
        }
      ]
    },
    {
      "cell_type": "code",
      "source": [
        "# How to find log of a1 by using numpy\n",
        "d1=np.log(a1)\n",
        "print(d1)"
      ],
      "metadata": {
        "colab": {
          "base_uri": "https://localhost:8080/"
        },
        "id": "a_vu3QHD9tVr",
        "outputId": "2e29603a-8b07-450c-b6a2-fdd0c11899eb"
      },
      "execution_count": null,
      "outputs": [
        {
          "output_type": "stream",
          "name": "stdout",
          "text": [
            "[0.         0.69314718 1.09861229 1.38629436 1.60943791 1.79175947\n",
            " 1.94591015 2.07944154]\n"
          ]
        }
      ]
    },
    {
      "cell_type": "code",
      "source": [
        "# dot product of numpy array\n",
        "a = np.array([1,2])\n",
        "b = np.array([4,5])\n",
        "# print(np.dot(a,b))\n",
        "# Sum of the product of correspoinding entries\n",
        "# multiply each corresponding element and take the sum\n",
        "# cumbersome way of lists\n",
        "dot = 0\n",
        "for i in range(len(a)):\n",
        "  dot+=a[i]* b[i]\n",
        "print(dot)\n",
        "print(np.dot(a,b))"
      ],
      "metadata": {
        "colab": {
          "base_uri": "https://localhost:8080/"
        },
        "id": "i0MhHeMvBghv",
        "outputId": "1763c5bb-7d1e-4140-8fd1-39b2f5fd1b1f"
      },
      "execution_count": null,
      "outputs": [
        {
          "output_type": "stream",
          "name": "stdout",
          "text": [
            "14\n",
            "14\n"
          ]
        }
      ]
    },
    {
      "cell_type": "code",
      "source": [
        "# step by step procedure\n",
        "c=a*b\n",
        "print(c)\n",
        "d=np.sum(c)\n",
        "print(d)"
      ],
      "metadata": {
        "colab": {
          "base_uri": "https://localhost:8080/"
        },
        "id": "c2jXIehKBgkt",
        "outputId": "a77e5f63-50fe-4b48-afbc-739846a25c31"
      },
      "execution_count": null,
      "outputs": [
        {
          "output_type": "stream",
          "name": "stdout",
          "text": [
            "[ 4 10]\n",
            "14\n"
          ]
        }
      ]
    },
    {
      "cell_type": "code",
      "source": [
        "dot =a.dot(b)\n",
        "print(dot)"
      ],
      "metadata": {
        "colab": {
          "base_uri": "https://localhost:8080/"
        },
        "id": "8OEs5mP_CgmK",
        "outputId": "a32d4ac3-4609-4343-cd88-01f284c7da04"
      },
      "execution_count": null,
      "outputs": [
        {
          "output_type": "stream",
          "name": "stdout",
          "text": [
            "14\n"
          ]
        }
      ]
    },
    {
      "cell_type": "code",
      "source": [
        "dot = (a * b).sum()\n",
        "print(dot)"
      ],
      "metadata": {
        "colab": {
          "base_uri": "https://localhost:8080/"
        },
        "id": "Qyg-nOuaCgi_",
        "outputId": "95535404-ce6d-49da-fa01-e5e41996181c"
      },
      "execution_count": null,
      "outputs": [
        {
          "output_type": "stream",
          "name": "stdout",
          "text": [
            "14\n"
          ]
        }
      ]
    },
    {
      "cell_type": "code",
      "source": [
        "# in newer version\n",
        "dot =a @ b\n",
        "print(dot)"
      ],
      "metadata": {
        "colab": {
          "base_uri": "https://localhost:8080/"
        },
        "id": "Sef6OVC1Cgf8",
        "outputId": "ef581b9b-3b19-4852-d6c0-464d3f1730f8"
      },
      "execution_count": null,
      "outputs": [
        {
          "output_type": "stream",
          "name": "stdout",
          "text": [
            "14\n"
          ]
        }
      ]
    },
    {
      "cell_type": "code",
      "source": [
        "import numpy as np\n",
        "from timeit import default_timer as timer\n",
        "a=np.random.rand(1000)\n",
        "b=np.random.rand(1000)\n",
        "# print(a)\n",
        "# print(b)\n",
        "A=list(a)\n",
        "B=list(b)\n",
        "T=1000\n",
        "# by using List\n",
        "def dot1():\n",
        "  dot=0\n",
        "  for i in range(len(A)):\n",
        "    dot+=A[i]+B[i]\n",
        "  return dot\n",
        "\n",
        "# BY using Array list\n",
        "def dot2():\n",
        "  return np.dot(a,b)\n",
        "\n",
        "# calculate time of execution\n",
        "start =timer()\n",
        "for t in range(T):\n",
        "  dot1()\n",
        "end=timer()\n",
        "t1=end-start\n",
        "\n",
        "start =timer()\n",
        "for t in range(T):\n",
        "  dot2()\n",
        "end=timer()\n",
        "t2=end-start\n",
        "\n",
        "\n",
        "print(\"Time with Lists \",t1 )\n",
        "print(\"Time with array \",t2)\n",
        "print(\"ration\",t1/t2)"
      ],
      "metadata": {
        "id": "RIeNW4XxCgEm",
        "colab": {
          "base_uri": "https://localhost:8080/"
        },
        "outputId": "cde15fa8-42ae-4367-bc85-119822795a2c"
      },
      "execution_count": null,
      "outputs": [
        {
          "output_type": "stream",
          "name": "stdout",
          "text": [
            "Time with Lists  0.3416589099999925\n",
            "Time with array  0.001678858999994759\n",
            "ration 203.5066137186381\n"
          ]
        }
      ]
    },
    {
      "cell_type": "code",
      "source": [
        "#MUltidimensionl array"
      ],
      "metadata": {
        "id": "KVqYezBV1AQY"
      },
      "execution_count": null,
      "outputs": []
    },
    {
      "cell_type": "code",
      "source": [
        "a=np.array([[1,2],[4,5]])\n",
        "print(a)\n",
        "print(\"Shape\",a.shape)\n",
        "print(\"Dimension\",a.ndim)\n",
        "print(\"Size \",a.size)\n",
        "print(\"item SIze \",a.itemsize)\n",
        "print(\"Data type \",a.dtype)"
      ],
      "metadata": {
        "colab": {
          "base_uri": "https://localhost:8080/"
        },
        "id": "_HZGfu_r1AbT",
        "outputId": "ca8a5c6d-bd04-4459-9480-84f5a9367640"
      },
      "execution_count": null,
      "outputs": [
        {
          "output_type": "stream",
          "name": "stdout",
          "text": [
            "[[1 2]\n",
            " [4 5]]\n",
            "Shape (2, 2)\n",
            "Dimension 2\n",
            "Size  4\n",
            "item SIze  8\n",
            "Data type  int64\n"
          ]
        }
      ]
    },
    {
      "cell_type": "code",
      "source": [
        "print(a[0])\n",
        "print(a[1,0])\n",
        "print(a[1,1])\n"
      ],
      "metadata": {
        "colab": {
          "base_uri": "https://localhost:8080/"
        },
        "id": "M4naL4i41Ac3",
        "outputId": "a4e683c2-87ec-41d0-9af1-f93e6a4f3263"
      },
      "execution_count": null,
      "outputs": [
        {
          "output_type": "stream",
          "name": "stdout",
          "text": [
            "[1 2]\n",
            "4\n",
            "5\n"
          ]
        }
      ]
    },
    {
      "cell_type": "code",
      "source": [
        "print(a[[0]])\n",
        "print(a[0,:])"
      ],
      "metadata": {
        "colab": {
          "base_uri": "https://localhost:8080/"
        },
        "id": "MnpWah1T1Af6",
        "outputId": "70c0590c-719c-48c8-8d5f-8aed9eb55efb"
      },
      "execution_count": null,
      "outputs": [
        {
          "output_type": "stream",
          "name": "stdout",
          "text": [
            "[[1 2]]\n",
            "[1 2]\n"
          ]
        }
      ]
    },
    {
      "cell_type": "code",
      "source": [
        "# to Print 1st colume\n",
        "print(a[:,0])\n",
        "\n",
        "# print all the colume in row 0\n",
        "print(a[0,:])"
      ],
      "metadata": {
        "colab": {
          "base_uri": "https://localhost:8080/"
        },
        "id": "m24lyo2m1Ai3",
        "outputId": "09caa458-bb8d-4e70-eaa6-0d087672bea4"
      },
      "execution_count": null,
      "outputs": [
        {
          "output_type": "stream",
          "name": "stdout",
          "text": [
            "[1 4]\n",
            "[1 2]\n"
          ]
        }
      ]
    },
    {
      "cell_type": "code",
      "source": [
        "# Print all colume in row1\n",
        "print(a[1,:])\n"
      ],
      "metadata": {
        "colab": {
          "base_uri": "https://localhost:8080/"
        },
        "id": "L1p1Flrc1Aq7",
        "outputId": "028d1ccb-ac45-4241-f0ca-0289eae95a23"
      },
      "execution_count": null,
      "outputs": [
        {
          "output_type": "stream",
          "name": "stdout",
          "text": [
            "[4 5]\n"
          ]
        }
      ]
    },
    {
      "cell_type": "code",
      "source": [
        "# Transpose\n",
        "a.T"
      ],
      "metadata": {
        "colab": {
          "base_uri": "https://localhost:8080/"
        },
        "id": "vHmAxHmM1At3",
        "outputId": "9f7fe11f-a326-421b-dc2a-e2fc20191e57"
      },
      "execution_count": null,
      "outputs": [
        {
          "output_type": "execute_result",
          "data": {
            "text/plain": [
              "array([[1, 4],\n",
              "       [2, 5]])"
            ]
          },
          "metadata": {},
          "execution_count": 31
        }
      ]
    },
    {
      "cell_type": "code",
      "source": [
        "# matrix multiplication with dot\n",
        "b=np.array([[3,4],[5,6]])\n",
        "print(a.dot(b))\n",
        "# matrix multiplication ?\n",
        "# determinante in numpy array ?\n",
        "# what is determinant ?\n",
        "# find the det of c ?\n",
        "z=np.linalg.det(a)\n",
        "print(z)"
      ],
      "metadata": {
        "id": "BQgstwiemcth",
        "colab": {
          "base_uri": "https://localhost:8080/"
        },
        "outputId": "26e030f4-773e-4878-ba97-924a506ec893"
      },
      "execution_count": null,
      "outputs": [
        {
          "output_type": "stream",
          "name": "stdout",
          "text": [
            "[[13 16]\n",
            " [37 46]]\n",
            "-2.9999999999999996\n"
          ]
        }
      ]
    },
    {
      "cell_type": "code",
      "source": [
        "# Print inverse of array a?\n",
        "c= np.linalg.inv(a)\n",
        "print(c)"
      ],
      "metadata": {
        "colab": {
          "base_uri": "https://localhost:8080/"
        },
        "id": "a4l8Lty48eD3",
        "outputId": "c970db24-c4d1-4a94-c0b8-c55a82a3973e"
      },
      "execution_count": null,
      "outputs": [
        {
          "output_type": "stream",
          "name": "stdout",
          "text": [
            "[[-1.66666667  0.66666667]\n",
            " [ 1.33333333 -0.33333333]]\n"
          ]
        }
      ]
    },
    {
      "cell_type": "code",
      "source": [
        "# What is inverse\n",
        "# what is matrix and all funtion of it\n",
        "# do the diagonal of vector return diagonal matrix\n",
        "# what is two vector\n",
        "c=np.diag([1,4])\n",
        "print(c)"
      ],
      "metadata": {
        "colab": {
          "base_uri": "https://localhost:8080/"
        },
        "id": "9zCQwt7T8eGx",
        "outputId": "eb2c63e4-a402-43c7-eb41-d02f7ceaeb9e"
      },
      "execution_count": null,
      "outputs": [
        {
          "output_type": "stream",
          "name": "stdout",
          "text": [
            "[[1 0]\n",
            " [0 4]]\n"
          ]
        }
      ]
    },
    {
      "cell_type": "code",
      "source": [
        "# Indexing,Slicing and Boolean indexing"
      ],
      "metadata": {
        "id": "xTCNH3wA9gwb"
      },
      "execution_count": null,
      "outputs": []
    },
    {
      "cell_type": "code",
      "source": [
        "A=np.array([[1,2,3,4],[5,6,7,8],[9,10,11,12]])\n",
        "print(a.size)\n",
        "print(a.shape)\n",
        "print(a.ndim)\n",
        "print(a.itemsize)\n",
        "print(a.dtype)"
      ],
      "metadata": {
        "colab": {
          "base_uri": "https://localhost:8080/"
        },
        "id": "NzD0cMLe9gyV",
        "outputId": "7e0a7b08-4131-48f8-ce12-04d68912cc49"
      },
      "execution_count": null,
      "outputs": [
        {
          "output_type": "stream",
          "name": "stdout",
          "text": [
            "12\n",
            "(1, 3, 4)\n",
            "3\n",
            "8\n",
            "int64\n"
          ]
        }
      ]
    },
    {
      "cell_type": "code",
      "source": [
        "# Print he 1,2,3,4\n",
        "print(a[0,:])"
      ],
      "metadata": {
        "colab": {
          "base_uri": "https://localhost:8080/"
        },
        "id": "49Efz_1r9g0T",
        "outputId": "677aea94-2fe3-4e70-9bfd-66fdfddac15a"
      },
      "execution_count": null,
      "outputs": [
        {
          "output_type": "stream",
          "name": "stdout",
          "text": [
            "[1 2 3 4]\n"
          ]
        }
      ]
    },
    {
      "cell_type": "code",
      "source": [
        "import numpy as np\n",
        "# 3D array peint the 1st row of element\n",
        "a = np.array([[[1, 2, 3, 4], [5, 6, 7, 8], [9, 10, 11, 12]]])\n",
        "first_row = a[0, 0, :]\n",
        "print(first_row)\n",
        "print(\"\\n\")\n",
        "# de serilization-dot to line\n",
        "# serialization  line to dot\n",
        "print(a)"
      ],
      "metadata": {
        "colab": {
          "base_uri": "https://localhost:8080/"
        },
        "id": "M1xsghjG9g3M",
        "outputId": "d0324a01-d36c-4179-f401-22de3625ba3f"
      },
      "execution_count": null,
      "outputs": [
        {
          "output_type": "stream",
          "name": "stdout",
          "text": [
            "[1 2 3 4]\n",
            "\n",
            "\n",
            "[[[ 1  2  3  4]\n",
            "  [ 5  6  7  8]\n",
            "  [ 9 10 11 12]]]\n"
          ]
        }
      ]
    },
    {
      "cell_type": "code",
      "source": [
        "print(a[:,0])"
      ],
      "metadata": {
        "colab": {
          "base_uri": "https://localhost:8080/"
        },
        "id": "G2oJmGcCAEBz",
        "outputId": "ad9588b3-c523-4b69-e2be-284d0061cd0f"
      },
      "execution_count": null,
      "outputs": [
        {
          "output_type": "stream",
          "name": "stdout",
          "text": [
            "[[1 2 3 4]]\n"
          ]
        }
      ]
    },
    {
      "cell_type": "code",
      "source": [
        "# slicing [2,3 and 6,7]\n",
        "s=a[0,0:2,1:3]\n",
        "print(s)"
      ],
      "metadata": {
        "colab": {
          "base_uri": "https://localhost:8080/"
        },
        "id": "btyrawmQAD-Y",
        "outputId": "c13464b3-44e6-488c-f795-50186892f824"
      },
      "execution_count": null,
      "outputs": [
        {
          "output_type": "stream",
          "name": "stdout",
          "text": [
            "[[2 3]\n",
            " [6 7]]\n"
          ]
        }
      ]
    },
    {
      "cell_type": "code",
      "source": [
        "print(A[-1,-2]) # ---- -ve ro eform reverse diresction \"-1\" and -ve colume in last position '-1'\n"
      ],
      "metadata": {
        "colab": {
          "base_uri": "https://localhost:8080/"
        },
        "id": "8cWdNHMPAD8j",
        "outputId": "e9472be1-91e2-4872-d7c4-acee912789b6"
      },
      "execution_count": null,
      "outputs": [
        {
          "output_type": "stream",
          "name": "stdout",
          "text": [
            "11\n"
          ]
        }
      ]
    },
    {
      "cell_type": "code",
      "source": [
        "# boolean indexing\n",
        "b= np.array([[1,2],[3,4],[5,6]])\n",
        "print(b)\n"
      ],
      "metadata": {
        "colab": {
          "base_uri": "https://localhost:8080/"
        },
        "id": "HwXRRne2AD6C",
        "outputId": "33f1984f-2b2e-4d0e-caf7-8b0ec03b3b43"
      },
      "execution_count": null,
      "outputs": [
        {
          "output_type": "stream",
          "name": "stdout",
          "text": [
            "[[1 2]\n",
            " [3 4]\n",
            " [5 6]]\n"
          ]
        }
      ]
    },
    {
      "cell_type": "code",
      "source": [
        "# print the value true if it is greater than 2 else false\n",
        "print(b>2)"
      ],
      "metadata": {
        "colab": {
          "base_uri": "https://localhost:8080/"
        },
        "id": "naoYK435AD4Q",
        "outputId": "4797d66f-cd8f-40d3-8bec-29b3182c0189"
      },
      "execution_count": null,
      "outputs": [
        {
          "output_type": "stream",
          "name": "stdout",
          "text": [
            "[[False False]\n",
            " [ True  True]\n",
            " [ True  True]]\n"
          ]
        }
      ]
    },
    {
      "cell_type": "code",
      "source": [
        "# note this will be a rank 1 array\n",
        "# i want to go print greater than 2\n",
        "print(b[b>2])"
      ],
      "metadata": {
        "colab": {
          "base_uri": "https://localhost:8080/"
        },
        "id": "AUUgxTDsAD18",
        "outputId": "2a964152-432b-4d0e-8522-625576316e1b"
      },
      "execution_count": null,
      "outputs": [
        {
          "output_type": "stream",
          "name": "stdout",
          "text": [
            "[3 4 5 6]\n"
          ]
        }
      ]
    },
    {
      "cell_type": "code",
      "source": [
        "z=np.where(b>2,b,-1)\n",
        "print(z)  # (condition ,array,vales to be passed )"
      ],
      "metadata": {
        "colab": {
          "base_uri": "https://localhost:8080/"
        },
        "id": "b6JFfj6oADy8",
        "outputId": "bce01f18-dd53-4d7c-f6ed-8d08fd2afa99"
      },
      "execution_count": null,
      "outputs": [
        {
          "output_type": "stream",
          "name": "stdout",
          "text": [
            "[[-1 -1]\n",
            " [ 3  4]\n",
            " [ 5  6]]\n"
          ]
        }
      ]
    },
    {
      "cell_type": "code",
      "source": [
        "# fancy indexing ----> to print the multiple indexes at once\n",
        "a=np.array([1,2,3,4,5,6,7,8,9,10,11,12])\n",
        "print(a[[1,3,6]])"
      ],
      "metadata": {
        "colab": {
          "base_uri": "https://localhost:8080/"
        },
        "id": "tFpORunmADvt",
        "outputId": "07b90055-6466-41f3-a7b0-431e7dad5116"
      },
      "execution_count": null,
      "outputs": [
        {
          "output_type": "stream",
          "name": "stdout",
          "text": [
            "[2 4 7]\n"
          ]
        }
      ]
    },
    {
      "cell_type": "code",
      "source": [
        "# compute indices where the condition true\n",
        "print(a)\n",
        "even= np.argwhere(a%2==0)\n",
        "print(even)"
      ],
      "metadata": {
        "colab": {
          "base_uri": "https://localhost:8080/"
        },
        "id": "Wpc8sx_OADuG",
        "outputId": "43ab25b4-ecf9-4f93-e369-c8961d08c7e8"
      },
      "execution_count": null,
      "outputs": [
        {
          "output_type": "stream",
          "name": "stdout",
          "text": [
            "[[[ 1  2  3  4]\n",
            "  [ 5  6  7  8]\n",
            "  [ 9 10 11 12]]]\n",
            "[[0 0 1]\n",
            " [0 0 3]\n",
            " [0 1 1]\n",
            " [0 1 3]\n",
            " [0 2 1]\n",
            " [0 2 3]]\n"
          ]
        }
      ]
    },
    {
      "cell_type": "code",
      "source": [
        "# reshaping of an array\n",
        "a=np.arange(1,13)\n",
        "print(a)\n",
        "print(a.shape)\n",
        "print(a.ndim)\n",
        "print(a.itemsize)\n",
        "print(a.dtype)"
      ],
      "metadata": {
        "colab": {
          "base_uri": "https://localhost:8080/"
        },
        "id": "QQBtaB8kADmI",
        "outputId": "d200c582-ddf2-4d3a-dc4e-945ce440b448"
      },
      "execution_count": null,
      "outputs": [
        {
          "output_type": "stream",
          "name": "stdout",
          "text": [
            "[ 1  2  3  4  5  6  7  8  9 10 11 12]\n",
            "(12,)\n",
            "1\n",
            "8\n",
            "int64\n"
          ]
        }
      ]
    },
    {
      "cell_type": "code",
      "source": [
        "c=a.reshape(3,4)\n",
        "print(c)\n",
        "print(c.shape)\n",
        "print(c.ndim)\n",
        "print(c.itemsize)\n",
        "print(c.dtype)"
      ],
      "metadata": {
        "colab": {
          "base_uri": "https://localhost:8080/"
        },
        "id": "1cR2JD_UADZS",
        "outputId": "b2f0a631-c0b3-430d-8828-2b7cb29b6977"
      },
      "execution_count": null,
      "outputs": [
        {
          "output_type": "stream",
          "name": "stdout",
          "text": [
            "[[ 1  2  3  4]\n",
            " [ 5  6  7  8]\n",
            " [ 9 10 11 12]]\n",
            "(3, 4)\n",
            "2\n",
            "8\n",
            "int64\n"
          ]
        }
      ]
    },
    {
      "cell_type": "code",
      "source": [
        "# new wax : is used to create a new axis in the data\n",
        "# it is required when the data to be shaped in a manner\n",
        "print(a.shape)\n",
        "print(a[np.newaxis,:]) # [row()\n",
        "print(a[:,np.newaxis])\n",
        "#"
      ],
      "metadata": {
        "colab": {
          "base_uri": "https://localhost:8080/"
        },
        "id": "waA_1LuEIO_T",
        "outputId": "67be27ac-3714-4c93-aea4-2d1253295863"
      },
      "execution_count": null,
      "outputs": [
        {
          "output_type": "stream",
          "name": "stdout",
          "text": [
            "(12,)\n",
            "[[ 1  2  3  4  5  6  7  8  9 10 11 12]]\n",
            "[[ 1]\n",
            " [ 2]\n",
            " [ 3]\n",
            " [ 4]\n",
            " [ 5]\n",
            " [ 6]\n",
            " [ 7]\n",
            " [ 8]\n",
            " [ 9]\n",
            " [10]\n",
            " [11]\n",
            " [12]]\n"
          ]
        }
      ]
    },
    {
      "cell_type": "code",
      "source": [
        "# Concatenation of array\n",
        "a=np.array([[1,2],[3,4]])\n",
        "b=np.array([[4,5],[4,5]])\n",
        "print(np.concatenate((a,b),axis =None))\n"
      ],
      "metadata": {
        "colab": {
          "base_uri": "https://localhost:8080/"
        },
        "id": "vSfvDVaHIPMn",
        "outputId": "439cca83-806d-4cad-d2b5-a8a4d7759996"
      },
      "execution_count": null,
      "outputs": [
        {
          "output_type": "stream",
          "name": "stdout",
          "text": [
            "[1 2 3 4 4 5 4 5]\n"
          ]
        }
      ]
    },
    {
      "cell_type": "code",
      "source": [
        "print(np.concatenate((a,b),axis =0))\n",
        "# Axis"
      ],
      "metadata": {
        "colab": {
          "base_uri": "https://localhost:8080/"
        },
        "id": "iz8IwN3UIPUt",
        "outputId": "09df311e-f19a-4598-e8e2-758ea97aa22d"
      },
      "execution_count": null,
      "outputs": [
        {
          "output_type": "stream",
          "name": "stdout",
          "text": [
            "[[1 2]\n",
            " [3 4]\n",
            " [4 5]\n",
            " [4 5]]\n"
          ]
        }
      ]
    },
    {
      "cell_type": "code",
      "source": [
        "print(np.concatenate((a,b),axis =1))\n"
      ],
      "metadata": {
        "colab": {
          "base_uri": "https://localhost:8080/"
        },
        "id": "nCum4CBSIPXz",
        "outputId": "e647980a-b9b7-49b4-86b5-1421a0c8c62f"
      },
      "execution_count": null,
      "outputs": [
        {
          "output_type": "stream",
          "name": "stdout",
          "text": [
            "[[1 2 4 5]\n",
            " [3 4 4 5]]\n"
          ]
        }
      ]
    },
    {
      "cell_type": "code",
      "source": [
        "a=np.array([[1,2],[3,4]])\n",
        "b=np.array([[4,5]])\n",
        "c=np.concatenate((a,b.T),axis =1)\n",
        "print(c)"
      ],
      "metadata": {
        "colab": {
          "base_uri": "https://localhost:8080/"
        },
        "id": "TNwhw1teMBLH",
        "outputId": "4f59a6d7-24ec-4e7c-e46c-0238999f2f77"
      },
      "execution_count": null,
      "outputs": [
        {
          "output_type": "stream",
          "name": "stdout",
          "text": [
            "[[1 2 4]\n",
            " [3 4 5]]\n"
          ]
        }
      ]
    },
    {
      "cell_type": "code",
      "source": [
        "#hstack:- stack of array in sequence  horizentally (colume wise) need tuple\n",
        "a=np.array([[1,2,3,4]])\n",
        "b=np.array([[4,5,4,5]])\n",
        "c=np.hstack((a,b))\n",
        "print(c)\n",
        "np.concatenate((a,b),axis =None)"
      ],
      "metadata": {
        "colab": {
          "base_uri": "https://localhost:8080/"
        },
        "id": "727uljxAMBM8",
        "outputId": "fcc68802-a607-4cef-f256-94d56b4d4b61"
      },
      "execution_count": null,
      "outputs": [
        {
          "output_type": "stream",
          "name": "stdout",
          "text": [
            "[[1 2 3 4 4 5 4 5]]\n"
          ]
        },
        {
          "output_type": "execute_result",
          "data": {
            "text/plain": [
              "array([1, 2, 3, 4, 4, 5, 4, 5])"
            ]
          },
          "metadata": {},
          "execution_count": 90
        }
      ]
    },
    {
      "cell_type": "code",
      "source": [
        "a=np.array([[1,2],[3,4]])\n",
        "b=np.array([[4,5],[4,5]])\n",
        "c=np.hstack((a,b))\n",
        "print(c)"
      ],
      "metadata": {
        "colab": {
          "base_uri": "https://localhost:8080/"
        },
        "id": "MrCu2OjMMBQE",
        "outputId": "d5f0964a-e57e-4d86-9c36-674554d6c343"
      },
      "execution_count": null,
      "outputs": [
        {
          "output_type": "stream",
          "name": "stdout",
          "text": [
            "[[1 2 4 5]\n",
            " [3 4 4 5]]\n"
          ]
        }
      ]
    },
    {
      "cell_type": "code",
      "source": [
        "a=np.array([[1,2],[3,4]])\n",
        "b=np.array([[4,5],[4,5]])\n",
        "c=np.vstack((b,a))\n",
        "print(c)"
      ],
      "metadata": {
        "colab": {
          "base_uri": "https://localhost:8080/"
        },
        "id": "k4zE_ILQNeSy",
        "outputId": "9bac7b70-1de4-41d5-8b17-6aa330be2288"
      },
      "execution_count": null,
      "outputs": [
        {
          "output_type": "stream",
          "name": "stdout",
          "text": [
            "[[4 5]\n",
            " [4 5]\n",
            " [1 2]\n",
            " [3 4]]\n"
          ]
        }
      ]
    },
    {
      "cell_type": "code",
      "source": [
        "import numpy as np\n",
        "\n",
        "a = np.array([[1, 2,4],\n",
        "              [3, 4,6]])\n",
        "b = np.array([[5, 6,7],\n",
        "              [7, 8,9]])\n",
        "\n",
        "result_axis_0 = np.concatenate((a, b), axis=1)\n",
        "\n",
        "print(result_axis_0)\n"
      ],
      "metadata": {
        "colab": {
          "base_uri": "https://localhost:8080/"
        },
        "id": "v3btuemtOAu1",
        "outputId": "54df05e2-71d3-4b32-cc80-dac54581d0e6"
      },
      "execution_count": null,
      "outputs": [
        {
          "output_type": "stream",
          "name": "stdout",
          "text": [
            "[[1 2 4 5 6 7]\n",
            " [3 4 6 7 8 9]]\n"
          ]
        }
      ]
    },
    {
      "cell_type": "code",
      "source": [
        "# What is\n",
        "# fancy\n",
        "# escape character \\ :- print illegal character"
      ],
      "metadata": {
        "id": "nY2GlYWDuGsg"
      },
      "execution_count": null,
      "outputs": []
    },
    {
      "cell_type": "code",
      "source": [
        "a='gutte'\n",
        "b=int(a)\n",
        "print(b)"
      ],
      "metadata": {
        "colab": {
          "base_uri": "https://localhost:8080/",
          "height": 176
        },
        "id": "0aUJ51sJOAx1",
        "outputId": "050bb24a-3cbe-4773-a216-24813db8712f"
      },
      "execution_count": null,
      "outputs": [
        {
          "output_type": "error",
          "ename": "ValueError",
          "evalue": "invalid literal for int() with base 10: 'gutte'",
          "traceback": [
            "\u001b[0;31m---------------------------------------------------------------------------\u001b[0m",
            "\u001b[0;31mValueError\u001b[0m                                Traceback (most recent call last)",
            "\u001b[0;32m<ipython-input-1-a3ed5bac9c1f>\u001b[0m in \u001b[0;36m<cell line: 2>\u001b[0;34m()\u001b[0m\n\u001b[1;32m      1\u001b[0m \u001b[0ma\u001b[0m\u001b[0;34m=\u001b[0m\u001b[0;34m'gutte'\u001b[0m\u001b[0;34m\u001b[0m\u001b[0;34m\u001b[0m\u001b[0m\n\u001b[0;32m----> 2\u001b[0;31m \u001b[0mb\u001b[0m\u001b[0;34m=\u001b[0m\u001b[0mint\u001b[0m\u001b[0;34m(\u001b[0m\u001b[0ma\u001b[0m\u001b[0;34m)\u001b[0m\u001b[0;34m\u001b[0m\u001b[0;34m\u001b[0m\u001b[0m\n\u001b[0m\u001b[1;32m      3\u001b[0m \u001b[0mprint\u001b[0m\u001b[0;34m(\u001b[0m\u001b[0mb\u001b[0m\u001b[0;34m)\u001b[0m\u001b[0;34m\u001b[0m\u001b[0;34m\u001b[0m\u001b[0m\n",
            "\u001b[0;31mValueError\u001b[0m: invalid literal for int() with base 10: 'gutte'"
          ]
        }
      ]
    },
    {
      "cell_type": "code",
      "source": [
        "import numpy as np\n",
        "# Broadcasting\n",
        "# it a powerful mechaish that allow's numpy array to work with different shape\n",
        "# when performaing arthamatic operations\n",
        "# function as argument eg map function accept function as a argument\n",
        "x = np.array([[1,2,3], [4,5,6], [7,8,9], [10, 11, 12]])\n",
        "y = np.array([1, 0, 1])   # add y to each row of x using the broad casting\n",
        "print(x+y)"
      ],
      "metadata": {
        "id": "ec-xgmaHNeYS",
        "colab": {
          "base_uri": "https://localhost:8080/"
        },
        "outputId": "1208be16-dd43-4a08-e1c8-0f096907bbff"
      },
      "execution_count": null,
      "outputs": [
        {
          "output_type": "stream",
          "name": "stdout",
          "text": [
            "[[ 2  2  4]\n",
            " [ 5  5  7]\n",
            " [ 8  8 10]\n",
            " [11 11 13]]\n"
          ]
        }
      ]
    },
    {
      "cell_type": "code",
      "source": [
        "# Function and axis\n",
        "a = np.array([[7,8,9,10,11,12,13],[17,18,19,20,21,22,23]])\n",
        "print(a.sum())\n",
        "print(a.sum(axis =None)) # default\n",
        "print(a.sum(axis =0))\n",
        "print(a.sum(axis =1))\n",
        "\n",
        "print(a.mean())     # default\n",
        "print(a.mean(axis=0))\n",
        "print(a.mean(axis=1))"
      ],
      "metadata": {
        "colab": {
          "base_uri": "https://localhost:8080/"
        },
        "id": "FQELojXoBzfF",
        "outputId": "bf2cf7cf-531f-4152-8304-5722c174166a"
      },
      "execution_count": null,
      "outputs": [
        {
          "output_type": "stream",
          "name": "stdout",
          "text": [
            "210\n",
            "210\n",
            "[24 26 28 30 32 34 36]\n",
            "[ 70 140]\n",
            "15.0\n",
            "[12. 13. 14. 15. 16. 17. 18.]\n",
            "[10. 20.]\n"
          ]
        }
      ]
    },
    {
      "cell_type": "code",
      "source": [
        "x=np.array([1,2])\n",
        "print(x.dtype)\n",
        "\n",
        "\n",
        "# let np choice datatype\n",
        "y=np.array([1.0,2.0])\n",
        "print(y.dtype)\n"
      ],
      "metadata": {
        "colab": {
          "base_uri": "https://localhost:8080/"
        },
        "id": "gZD2VB2MBzcb",
        "outputId": "739c4324-a133-4c85-fc53-737c186da36c"
      },
      "execution_count": null,
      "outputs": [
        {
          "output_type": "stream",
          "name": "stdout",
          "text": [
            "int64\n",
            "float64\n"
          ]
        }
      ]
    },
    {
      "cell_type": "code",
      "source": [
        "# force a data types how many bits you want (how Precise)\n",
        "z=np.array([1,2],dtype=np.int32)\n",
        "print(z.dtype)\n",
        "\n",
        "z=np.array([1,2],dtype=np.float32)\n",
        "print(z.dtype)\n",
        "print(z)"
      ],
      "metadata": {
        "colab": {
          "base_uri": "https://localhost:8080/"
        },
        "id": "YK4xjIrkBzZo",
        "outputId": "5c60a147-6cad-4897-f07a-8db297307648"
      },
      "execution_count": null,
      "outputs": [
        {
          "output_type": "stream",
          "name": "stdout",
          "text": [
            "int32\n",
            "float32\n",
            "[1. 2.]\n"
          ]
        }
      ]
    },
    {
      "cell_type": "code",
      "source": [
        "# copying\n",
        "a=np.array([1,2,3])\n",
        "b=a     # only copy references distribu the orignal arrray\n",
        "b[0]=100\n",
        "print(a)"
      ],
      "metadata": {
        "id": "Sojapr4VBzXe"
      },
      "execution_count": null,
      "outputs": []
    },
    {
      "cell_type": "code",
      "source": [
        "a=np.array([1,2,3])\n",
        "b=a.copy()   # actual copy donot distrib the original array by using copy function\n",
        "b[0]=100\n",
        "print(a)"
      ],
      "metadata": {
        "id": "peWnz5VYBzVJ"
      },
      "execution_count": null,
      "outputs": []
    },
    {
      "cell_type": "code",
      "source": [
        "# Generative array\n",
        "# print zeros in 2 row and 3 columns\n",
        "a=np.zeros((2,3))\n",
        "print(a)\n",
        "\n",
        "# specific number of matrix in 3 row and 3 columns\n",
        "c=np.full((3,3),(5))\n",
        "print(c)"
      ],
      "metadata": {
        "colab": {
          "base_uri": "https://localhost:8080/"
        },
        "id": "0H5U-sg3BzSs",
        "outputId": "ac833946-140c-43ac-bd19-ce585fbb06f4"
      },
      "execution_count": null,
      "outputs": [
        {
          "output_type": "stream",
          "name": "stdout",
          "text": [
            "[[0. 0. 0.]\n",
            " [0. 0. 0.]]\n",
            "[[5 5 5]\n",
            " [5 5 5]\n",
            " [5 5 5]]\n"
          ]
        }
      ]
    },
    {
      "cell_type": "code",
      "source": [
        "# print identy matrix\n",
        "d=np.eye(3)\n",
        "print(d)"
      ],
      "metadata": {
        "colab": {
          "base_uri": "https://localhost:8080/"
        },
        "id": "yj0gc17FBzP6",
        "outputId": "da9e4eec-f0f5-4888-c927-1ba090a57447"
      },
      "execution_count": null,
      "outputs": [
        {
          "output_type": "stream",
          "name": "stdout",
          "text": [
            "[[1. 0. 0.]\n",
            " [0. 1. 0.]\n",
            " [0. 0. 1.]]\n"
          ]
        }
      ]
    },
    {
      "cell_type": "code",
      "source": [
        "# linespace :- use to to seprate the given data into specific number\n",
        "e=np.linspace(0,10,6)\n",
        "print(e)"
      ],
      "metadata": {
        "colab": {
          "base_uri": "https://localhost:8080/"
        },
        "id": "keBTl6TUIMXn",
        "outputId": "f278fcdb-c6f1-403b-cf64-f3c8f847353d"
      },
      "execution_count": null,
      "outputs": [
        {
          "output_type": "stream",
          "name": "stdout",
          "text": [
            "[ 0.  2.  4.  6.  8. 10.]\n"
          ]
        }
      ]
    },
    {
      "cell_type": "code",
      "source": [
        "# Random number Unifor distribution 0-1\n",
        "a=np.random.randn((3,2))\n",
        "print(a)"
      ],
      "metadata": {
        "colab": {
          "base_uri": "https://localhost:8080/"
        },
        "id": "zw4UTbhDIMac",
        "outputId": "a97811b3-1341-4400-864f-45d84471de31"
      },
      "execution_count": null,
      "outputs": [
        {
          "output_type": "stream",
          "name": "stdout",
          "text": [
            "[[0.9435574  0.99924852]\n",
            " [0.24008553 0.17519134]\n",
            " [0.13415054 0.41924904]]\n"
          ]
        }
      ]
    },
    {
      "cell_type": "code",
      "source": [
        "b=np.random.randn(3,2) #normal/gussian distribution ,mean 0 and unit variance.\n",
        "print(b)                    # variance =distance between two data points one data to another data\n",
        "print(b)                    #"
      ],
      "metadata": {
        "colab": {
          "base_uri": "https://localhost:8080/"
        },
        "id": "PtdeIpOoIMr0",
        "outputId": "27f5e969-c40b-4823-aa20-07717d3ca011"
      },
      "execution_count": null,
      "outputs": [
        {
          "output_type": "stream",
          "name": "stdout",
          "text": [
            "[[-0.96106634 -1.17979527]\n",
            " [ 0.65797651  0.78462316]\n",
            " [-0.56690471 -1.45642081]]\n"
          ]
        }
      ]
    },
    {
      "cell_type": "code",
      "source": [
        "c=np.random.randn(100000)\n",
        "print(c.mean())\n",
        "print(c.std())\n",
        "print(c.var())"
      ],
      "metadata": {
        "colab": {
          "base_uri": "https://localhost:8080/"
        },
        "id": "ABDTlqt9IM8I",
        "outputId": "ef21a327-8345-4f77-fa85-98caa6070052"
      },
      "execution_count": null,
      "outputs": [
        {
          "output_type": "stream",
          "name": "stdout",
          "text": [
            "0.00124306712127509\n",
            "0.9997452541132915\n",
            "0.9994905731220498\n"
          ]
        }
      ]
    },
    {
      "cell_type": "code",
      "source": [
        "d=np.random.randn(10,3)\n",
        "print(d)\n",
        "print(d.mean(),d.std(),d.var())"
      ],
      "metadata": {
        "colab": {
          "base_uri": "https://localhost:8080/"
        },
        "id": "-03JtIiFBzN0",
        "outputId": "3d340124-5cc5-4f27-99fa-afe4be7fb56e"
      },
      "execution_count": null,
      "outputs": [
        {
          "output_type": "stream",
          "name": "stdout",
          "text": [
            "[[-0.27387733 -1.13204145 -0.1373632 ]\n",
            " [ 1.16398084 -1.5596406   0.35704919]\n",
            " [-1.55626264 -0.32053538  0.89020233]\n",
            " [-0.75592109  0.72284487  0.56664624]\n",
            " [ 0.40981875  1.22178309  0.92310706]\n",
            " [ 0.73219953 -0.63836559 -0.77893231]\n",
            " [ 0.35939058 -0.41596434 -1.89218083]\n",
            " [-1.15905881 -1.44064305  1.38477344]\n",
            " [-1.12040132  0.29801643  0.63891611]\n",
            " [ 0.01921286  0.48112415 -0.47585999]]\n",
            "-0.11626608324473545 0.9148708125464481 0.8369886036493982\n"
          ]
        }
      ]
    },
    {
      "cell_type": "code",
      "source": [
        "d=np.random.randint(3,10, size=(3,3))\n",
        "print(d)\n",
        "print(d.mean(),d.std(),d.var())"
      ],
      "metadata": {
        "colab": {
          "base_uri": "https://localhost:8080/"
        },
        "id": "6JtxkodHLPCN",
        "outputId": "04828348-7bb4-4973-fddd-a79ff81f53d6"
      },
      "execution_count": null,
      "outputs": [
        {
          "output_type": "stream",
          "name": "stdout",
          "text": [
            "[[6 3 9]\n",
            " [7 9 8]\n",
            " [4 5 4]]\n",
            "6.111111111111111 2.1314806770278754 4.54320987654321\n"
          ]
        }
      ]
    },
    {
      "cell_type": "code",
      "source": [
        "# integer between 0 up to integer exclusive\n",
        "f=np.random.choice(10,size=8)\n",
        "print(f)"
      ],
      "metadata": {
        "colab": {
          "base_uri": "https://localhost:8080/"
        },
        "id": "ogoycCVSLPEV",
        "outputId": "0e2450df-7f23-4ab2-e644-29a1e4327d75"
      },
      "execution_count": null,
      "outputs": [
        {
          "output_type": "stream",
          "name": "stdout",
          "text": [
            "[4 3 9 0 6 9 0 3]\n"
          ]
        }
      ]
    },
    {
      "cell_type": "code",
      "source": [
        "# integer between 0 up to integer exclusive\n",
        "f=np.random.choice([1,2,3,4],size=8)\n",
        "print(f)"
      ],
      "metadata": {
        "colab": {
          "base_uri": "https://localhost:8080/"
        },
        "id": "G6VXVmu2LPGc",
        "outputId": "d34c6d59-e514-4dff-eac8-b686abde6dab"
      },
      "execution_count": null,
      "outputs": [
        {
          "output_type": "stream",
          "name": "stdout",
          "text": [
            "[3 3 4 3 1 1 4 3]\n"
          ]
        }
      ]
    },
    {
      "cell_type": "code",
      "source": [
        "# LInear Algerbra (Eigenalues/solving liner system)\n",
        "# linear and quadrtic quation # column vectors\n",
        "a=np.array([[1,2],[3,4]])\n",
        "# print(a)\n",
        "\n",
        "print(np.linalg.eig(a))\n",
        "# print(np.linalg.eigvals(a))"
      ],
      "metadata": {
        "colab": {
          "base_uri": "https://localhost:8080/"
        },
        "id": "ZAH_b4vnLPJW",
        "outputId": "03d39329-92f0-40bf-eb0e-44daed240ad1"
      },
      "execution_count": null,
      "outputs": [
        {
          "output_type": "stream",
          "name": "stdout",
          "text": [
            "EigResult(eigenvalues=array([-0.37228132,  5.37228132]), eigenvectors=array([[-0.82456484, -0.41597356],\n",
            "       [ 0.56576746, -0.90937671]]))\n"
          ]
        }
      ]
    },
    {
      "cell_type": "code",
      "source": [
        "# print(eigenvectors[:,0])\n"
      ],
      "metadata": {
        "id": "QCH5dk1vNYsf"
      },
      "execution_count": null,
      "outputs": []
    },
    {
      "cell_type": "code",
      "source": [
        "# A) e-vec * e-val =a * e-vector\n",
        "# d = eigenvector[:,0]* Eigenalues[0]\n",
        "# e=a@eigenvector[:,0]\n",
        "# print(d)\n",
        "# print(e)"
      ],
      "metadata": {
        "id": "iUXtLLHSNYuj"
      },
      "execution_count": null,
      "outputs": []
    },
    {
      "cell_type": "code",
      "source": [
        "#  correct athod to compare matrix\n",
        "# np.allclose(a,b)"
      ],
      "metadata": {
        "id": "KyUB_Sf2NYxD"
      },
      "execution_count": null,
      "outputs": []
    },
    {
      "cell_type": "code",
      "source": [
        "# Solving the linear system\n",
        "# x1 + x2=220\n",
        "# 1.5 x1 + 4 x2=5050\n",
        "\n",
        "A= np.array([[1,1],[1.5,4]])\n",
        "b=np.array([2200,5050])\n",
        "\n",
        "# Ax = b <=> x=A -1 b\n",
        "\n",
        "# Solving inverse is solve and less accurate\n",
        "x=np.linalg.inv(A)@b # not recomded method\n",
        "print(x)\n",
        "\n",
        "\n"
      ],
      "metadata": {
        "colab": {
          "base_uri": "https://localhost:8080/"
        },
        "id": "KT0wxSYrNYzQ",
        "outputId": "e0d43fea-d6a1-47b7-826c-d4c51483678d"
      },
      "execution_count": null,
      "outputs": [
        {
          "output_type": "stream",
          "name": "stdout",
          "text": [
            "[1500.  700.]\n",
            "[1500.  700.]\n"
          ]
        }
      ]
    },
    {
      "cell_type": "code",
      "source": [
        "# LOading a csv file\n",
        "# load it with np.loadtxt ()"
      ],
      "metadata": {
        "id": "GYMy2EKLRP8n"
      },
      "execution_count": null,
      "outputs": []
    },
    {
      "cell_type": "code",
      "source": [
        "import numpy as np\n",
        "\n",
        "# using loadtxt()\n",
        "arr = np.loadtxt(\"/content/sample_data/california_housing_test.csv\",\n",
        "\t\t\t\tdelimiter=\",\", dtype=str)\n",
        "display(arr)\n",
        "\n",
        "print(arr.size)\n",
        "print(arr.shape)\n",
        "print(arr.ndim)\n",
        "print(arr.itemsize)\n",
        "print(arr.dtype)"
      ],
      "metadata": {
        "colab": {
          "base_uri": "https://localhost:8080/",
          "height": 329
        },
        "id": "xRsbfQaZRP_E",
        "outputId": "26330091-0186-43e6-8515-553b1b7e65c7"
      },
      "execution_count": null,
      "outputs": [
        {
          "output_type": "display_data",
          "data": {
            "text/plain": [
              "array([['\"longitude\"', '\"latitude\"', '\"housing_median_age\"', ...,\n",
              "        '\"households\"', '\"median_income\"', '\"median_house_value\"'],\n",
              "       ['-122.050000', '37.370000', '27.000000', ..., '606.000000',\n",
              "        '6.608500', '344700.000000'],\n",
              "       ['-118.300000', '34.260000', '43.000000', ..., '277.000000',\n",
              "        '3.599000', '176500.000000'],\n",
              "       ...,\n",
              "       ['-119.700000', '36.300000', '10.000000', ..., '220.000000',\n",
              "        '2.289500', '62000.000000'],\n",
              "       ['-117.120000', '34.100000', '40.000000', ..., '14.000000',\n",
              "        '3.270800', '162500.000000'],\n",
              "       ['-119.630000', '34.420000', '42.000000', ..., '260.000000',\n",
              "        '8.560800', '500001.000000']], dtype='<U20')"
            ]
          },
          "metadata": {}
        },
        {
          "output_type": "stream",
          "name": "stdout",
          "text": [
            "27009\n",
            "(3001, 9)\n",
            "2\n",
            "80\n",
            "<U20\n"
          ]
        }
      ]
    },
    {
      "cell_type": "code",
      "source": [
        "arr = np.genfromtxt(\"/content/sample_data/california_housing_test.csv\",\n",
        "\t\t\t\tdelimiter=\",\", dtype=str)\n",
        "display(arr)"
      ],
      "metadata": {
        "colab": {
          "base_uri": "https://localhost:8080/",
          "height": 243
        },
        "id": "FkdfZfQVRQBi",
        "outputId": "485adc59-661e-471a-c801-8d4acfa8c399"
      },
      "execution_count": null,
      "outputs": [
        {
          "output_type": "display_data",
          "data": {
            "text/plain": [
              "array([['\"longitude\"', '\"latitude\"', '\"housing_median_age\"', ...,\n",
              "        '\"households\"', '\"median_income\"', '\"median_house_value\"'],\n",
              "       ['-122.050000', '37.370000', '27.000000', ..., '606.000000',\n",
              "        '6.608500', '344700.000000'],\n",
              "       ['-118.300000', '34.260000', '43.000000', ..., '277.000000',\n",
              "        '3.599000', '176500.000000'],\n",
              "       ...,\n",
              "       ['-119.700000', '36.300000', '10.000000', ..., '220.000000',\n",
              "        '2.289500', '62000.000000'],\n",
              "       ['-117.120000', '34.100000', '40.000000', ..., '14.000000',\n",
              "        '3.270800', '162500.000000'],\n",
              "       ['-119.630000', '34.420000', '42.000000', ..., '260.000000',\n",
              "        '8.560800', '500001.000000']], dtype='<U20')"
            ]
          },
          "metadata": {}
        }
      ]
    },
    {
      "cell_type": "code",
      "source": [
        "# simd\n",
        "# numpy interview question\n",
        "# numpy practice and one revision\n",
        "# all the topic and aexcel cource and\n",
        "# add it into linkedin\n",
        "# Revision of Power bi\n",
        "# numpy all 100 question solve\n",
        "# CReaet login from using databse\n",
        "#checker_board question is important?\n"
      ],
      "metadata": {
        "id": "akMmybtjUzvu"
      },
      "execution_count": null,
      "outputs": []
    }
  ]
}